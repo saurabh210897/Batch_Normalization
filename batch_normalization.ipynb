{
 "cells": [
  {
   "cell_type": "markdown",
   "id": "ac5bbc91-d89b-48ee-aec9-43f4b5ad55f4",
   "metadata": {},
   "source": [
    "# Objective: The objective of this assignment is to assess students' understanding of batch normalization in artificial neural networks (ANN) and its impact on training performance."
   ]
  },
  {
   "cell_type": "code",
   "execution_count": null,
   "id": "e0f3e0d9-b299-4d76-8f7b-ddc4d3f04512",
   "metadata": {},
   "outputs": [],
   "source": [
    "# Q1. Theoury and Consept\n",
    "# 1 Explain the concept of batch normalization in the context of Artificial Neural Networksr\n",
    "# 2 Describe the benefits of using batch normalization during training\n",
    "# 3 Discuss the working principle of batch normalization, including the normalization step and the learnable \n",
    "# parameters.\n",
    "# Q2. Implementation\n",
    "# 4 Choose a dataset of your choice (e.g., MNIST, CIfAR=10) and preprocess it\n",
    "# 5 Implement a simple feedforward neural network using any deep learning framework/library (e.g., \n",
    "# Tensorflow, pyTorch)\n",
    "# 6 Train the neural network on the chosen dataset without using batch normalization\n",
    "# 7 Implement batch normalization layers in the neural network and train the model again\n",
    "# 8 Compare the training and validation performance (e.g., accuracy, loss) between the models with and \n",
    "# without batch normalizationr\n",
    "# 9 Discuss the impact of batch normalization on the training process and the performance of the neural \n",
    "# network.\n",
    "# Q3. Experimentation and Analysis\n",
    "# 10 Experiment with different batch sizes and observe the effect on the training dynamics and model \n",
    "# performance\n",
    "# 11 Discuss the advantages and potential limitations of batch normalization in improving the training of \n",
    "# neural networks.\n",
    "# Submission Guidelines\n",
    "# 1 Complete the assi0nment in a Jupyter Notebook\t\n",
    "# 2 Include necessary comments and explanations to make your code understandable\t\n",
    "# 3 provide visualizations, tables, and explanations for your analysis and findin0s\t\n",
    "# 4 Create a GitHub repository to host your assignment files\t\n",
    "# 5 Rename your Jupyter Notebook file usin0 the format \"date_month_topic.ipynb\" (e.0., \n",
    "# \"12_July_Re0ression.ipynb\")\t\n",
    "# 6 place your Jupyter Notebook file (.ipynb) in the repository\t\n",
    "# 7 Ensure that the notebook runs without errors\t\n",
    "# 8 Commit and push any additional files or resources required to run your code (if applicable) to the \n",
    "# repository\t\n",
    "# 9 Make sure the repository is publicly accessible"
   ]
  },
  {
   "cell_type": "markdown",
   "id": "d39fcd11-d7af-496b-8d20-ffb983b451b1",
   "metadata": {},
   "source": [
    "# Solution"
   ]
  },
  {
   "cell_type": "markdown",
   "id": "efef412c-7f64-4a5b-8afe-3c6062344cd0",
   "metadata": {},
   "source": [
    "# Q1. Theoury and Consept\n",
    "# 1 Explain the concept of batch normalization in the context of Artificial Neural Networksr\n",
    "# 2 Describe the benefits of using batch normalization during training\n",
    "# 3 Discuss the working principle of batch normalization, including the normalization step and the learnable \n",
    "# parameters"
   ]
  },
  {
   "cell_type": "code",
   "execution_count": null,
   "id": "571520a8-32fa-46d4-bace-4acb1fe73f51",
   "metadata": {},
   "outputs": [],
   "source": [
    "# 1. Concept of Batch Normalization in Artificial Neural Networks:\n",
    "\n",
    "# Batch Normalization (BatchNorm or BN) is a technique used in Artificial Neural Networks (ANNs) to improve the training process and stability of deep neural networks.\n",
    "# It was introduced by Sergey Ioffe and Christian Szegedy in 2015.\n",
    "\n",
    "# In ANNs, during training, the input data distribution can change as it passes through each layer of the network due to the weight updates in the previous layers. \n",
    "# This phenomenon, known as internal covariate shift, can make training slower and more challenging. \n",
    "# Batch normalization addresses this issue by normalizing the activations of each layer.\n",
    "\n",
    "# 2. Benefits of Using Batch Normalization:\n",
    "\n",
    "# Batch normalization offers several advantages during training:\n",
    "\n",
    "# Stabilizes Training: Batch normalization helps stabilize and speed up the training process by reducing the internal covariate shift. \n",
    "# This means that the network can converge faster, requiring fewer training iterations.\n",
    "\n",
    "# Regularization: It acts as a form of regularization, reducing the need for other techniques like dropout. This can help prevent overfitting.\n",
    "\n",
    "# Larger Learning Rates: It allows for the use of larger learning rates, which can speed up convergence without the risk of diverging during training.\n",
    "\n",
    "# Reduces Sensitivity to Initialization: BN reduces the sensitivity of neural networks to weight initialization. \n",
    "# This is particularly beneficial when dealing with deep networks.\n",
    "\n",
    "# Improved Gradient Flow: Batch normalization ensures that the gradients during backpropagation are well-scaled,\n",
    "# making optimization more efficient and helping to avoid vanishing or exploding gradients.\n",
    "\n",
    "# 3. Working Principle of Batch Normalization:\n",
    "\n",
    "# Batch normalization operates on a mini-batch of data during each training iteration. Here's how it works:\n",
    "\n",
    "# Normalization Step: For each feature (or channel) in the input data, batch normalization calculates the mean and standard deviation over the mini-batch.\n",
    "# It then normalizes the feature by subtracting the mean and dividing by the standard deviation. This centers the data around zero and scales it to have unit variance.\n",
    "\n",
    "# Scaling and Shifting: After normalization, the data is scaled and shifted using learnable parameters. \n",
    "# Two learnable parameters, gamma (γ) and beta (β), are introduced for each feature.\n",
    "# These parameters allow the network to learn the optimal scaling and shifting for each feature.\n",
    "\n",
    "\n",
    "# Batch normalization is typically applied before the activation function in each layer of a neural network. \n",
    "# It ensures that the activations have similar statistical properties throughout training, making the optimization process more stable and efficient."
   ]
  },
  {
   "cell_type": "markdown",
   "id": "59203db1-da2c-42b3-a44c-234dcece3d48",
   "metadata": {},
   "source": [
    "# Q2. Implementation\n",
    "# 4 Choose a dataset of your choice (e.g., MNIST, CIfAR=10) and preprocess it\n",
    "# 5 Implement a simple feedforward neural network using any deep learning framework/library (e.g., \n",
    "# Tensorflow, pyTorch)\n",
    "# 6 Train the neural network on the chosen dataset without using batch normalization\n",
    "# 7 Implement batch normalization layers in the neural network and train the model again\n",
    "# 8 Compare the training and validation performance (e.g., accuracy, loss) between the models with and \n",
    "# without batch normalizationr\n",
    "# 9 Discuss the impact of batch normalization on the training process and the performance of the neural \n",
    "# network."
   ]
  },
  {
   "cell_type": "code",
   "execution_count": null,
   "id": "e680d9c8-6f47-4e4c-bd75-a817a902ccea",
   "metadata": {},
   "outputs": [
    {
     "name": "stdout",
     "output_type": "stream",
     "text": [
      "Collecting tensorflow\n",
      "  Downloading tensorflow-2.13.0-cp310-cp310-manylinux_2_17_x86_64.manylinux2014_x86_64.whl (524.1 MB)\n",
      "\u001b[2K     \u001b[90m━━━━━━━━━━━━━━━━━━━━━━━━━━━━━━━━━━━━━━━\u001b[0m \u001b[32m524.1/524.1 MB\u001b[0m \u001b[31m3.1 MB/s\u001b[0m eta \u001b[36m0:00:00\u001b[0m00:01\u001b[0m00:01\u001b[0m\n",
      "\u001b[?25hCollecting grpcio<2.0,>=1.24.3\n",
      "  Downloading grpcio-1.58.0-cp310-cp310-manylinux_2_17_x86_64.manylinux2014_x86_64.whl (5.3 MB)\n",
      "\u001b[2K     \u001b[90m━━━━━━━━━━━━━━━━━━━━━━━━━━━━━━━━━━━━━━━━\u001b[0m \u001b[32m5.3/5.3 MB\u001b[0m \u001b[31m44.6 MB/s\u001b[0m eta \u001b[36m0:00:00\u001b[0m00:01\u001b[0m00:01\u001b[0m\n",
      "\u001b[?25hCollecting gast<=0.4.0,>=0.2.1\n",
      "  Downloading gast-0.4.0-py3-none-any.whl (9.8 kB)\n",
      "Collecting termcolor>=1.1.0\n",
      "  Downloading termcolor-2.3.0-py3-none-any.whl (6.9 kB)\n",
      "Requirement already satisfied: protobuf!=4.21.0,!=4.21.1,!=4.21.2,!=4.21.3,!=4.21.4,!=4.21.5,<5.0.0dev,>=3.20.3 in /opt/conda/lib/python3.10/site-packages (from tensorflow) (4.21.11)\n",
      "Collecting tensorflow-estimator<2.14,>=2.13.0\n",
      "  Downloading tensorflow_estimator-2.13.0-py2.py3-none-any.whl (440 kB)\n",
      "\u001b[2K     \u001b[90m━━━━━━━━━━━━━━━━━━━━━━━━━━━━━━━━━━━━━━\u001b[0m \u001b[32m440.8/440.8 kB\u001b[0m \u001b[31m41.7 MB/s\u001b[0m eta \u001b[36m0:00:00\u001b[0m\n",
      "\u001b[?25hCollecting google-pasta>=0.1.1\n",
      "  Downloading google_pasta-0.2.0-py3-none-any.whl (57 kB)\n",
      "\u001b[2K     \u001b[90m━━━━━━━━━━━━━━━━━━━━━━━━━━━━━━━━━━━━━━━━\u001b[0m \u001b[32m57.5/57.5 kB\u001b[0m \u001b[31m11.7 MB/s\u001b[0m eta \u001b[36m0:00:00\u001b[0m\n",
      "\u001b[?25hRequirement already satisfied: numpy<=1.24.3,>=1.22 in /opt/conda/lib/python3.10/site-packages (from tensorflow) (1.23.5)\n",
      "Collecting keras<2.14,>=2.13.1\n",
      "  Downloading keras-2.13.1-py3-none-any.whl (1.7 MB)\n",
      "\u001b[2K     \u001b[90m━━━━━━━━━━━━━━━━━━━━━━━━━━━━━━━━━━━━━━━━\u001b[0m \u001b[32m1.7/1.7 MB\u001b[0m \u001b[31m72.1 MB/s\u001b[0m eta \u001b[36m0:00:00\u001b[0m\n",
      "\u001b[?25hCollecting astunparse>=1.6.0\n",
      "  Downloading astunparse-1.6.3-py2.py3-none-any.whl (12 kB)\n",
      "Collecting tensorflow-io-gcs-filesystem>=0.23.1\n",
      "  Downloading tensorflow_io_gcs_filesystem-0.34.0-cp310-cp310-manylinux_2_12_x86_64.manylinux2010_x86_64.whl (2.4 MB)\n",
      "\u001b[2K     \u001b[90m━━━━━━━━━━━━━━━━━━━━━━━━━━━━━━━━━━━━━━━━\u001b[0m \u001b[32m2.4/2.4 MB\u001b[0m \u001b[31m78.4 MB/s\u001b[0m eta \u001b[36m0:00:00\u001b[0m\n",
      "\u001b[?25hRequirement already satisfied: setuptools in /opt/conda/lib/python3.10/site-packages (from tensorflow) (65.5.1)\n",
      "Collecting flatbuffers>=23.1.21\n",
      "  Downloading flatbuffers-23.5.26-py2.py3-none-any.whl (26 kB)\n",
      "Collecting tensorboard<2.14,>=2.13\n",
      "  Downloading tensorboard-2.13.0-py3-none-any.whl (5.6 MB)\n",
      "\u001b[2K     \u001b[90m━━━━━━━━━━━━━━━━━━━━━━━━━━━━━━━━━━━━━━━━\u001b[0m \u001b[32m5.6/5.6 MB\u001b[0m \u001b[31m75.6 MB/s\u001b[0m eta \u001b[36m0:00:00\u001b[0m:00:01\u001b[0m00:01\u001b[0m\n",
      "\u001b[?25hRequirement already satisfied: h5py>=2.9.0 in /opt/conda/lib/python3.10/site-packages (from tensorflow) (3.7.0)\n",
      "Collecting wrapt>=1.11.0\n",
      "  Downloading wrapt-1.15.0-cp310-cp310-manylinux_2_5_x86_64.manylinux1_x86_64.manylinux_2_17_x86_64.manylinux2014_x86_64.whl (78 kB)\n",
      "\u001b[2K     \u001b[90m━━━━━━━━━━━━━━━━━━━━━━━━━━━━━━━━━━━━━━━━\u001b[0m \u001b[32m78.4/78.4 kB\u001b[0m \u001b[31m13.9 MB/s\u001b[0m eta \u001b[36m0:00:00\u001b[0m\n",
      "\u001b[?25hRequirement already satisfied: packaging in /opt/conda/lib/python3.10/site-packages (from tensorflow) (22.0)\n",
      "Requirement already satisfied: typing-extensions<4.6.0,>=3.6.6 in /opt/conda/lib/python3.10/site-packages (from tensorflow) (4.4.0)\n",
      "Collecting libclang>=13.0.0\n",
      "  Downloading libclang-16.0.6-py2.py3-none-manylinux2010_x86_64.whl (22.9 MB)\n",
      "\u001b[2K     \u001b[90m━━━━━━━━━━━━━━━━━━━━━━━━━━━━━━━━━━━━━━━━\u001b[0m \u001b[32m22.9/22.9 MB\u001b[0m \u001b[31m57.3 MB/s\u001b[0m eta \u001b[36m0:00:00\u001b[0m00:01\u001b[0m00:01\u001b[0m\n",
      "\u001b[?25hCollecting absl-py>=1.0.0\n",
      "  Downloading absl_py-1.4.0-py3-none-any.whl (126 kB)\n",
      "\u001b[2K     \u001b[90m━━━━━━━━━━━━━━━━━━━━━━━━━━━━━━━━━━━━━━\u001b[0m \u001b[32m126.5/126.5 kB\u001b[0m \u001b[31m23.5 MB/s\u001b[0m eta \u001b[36m0:00:00\u001b[0m\n",
      "\u001b[?25hRequirement already satisfied: six>=1.12.0 in /opt/conda/lib/python3.10/site-packages (from tensorflow) (1.16.0)\n",
      "Collecting opt-einsum>=2.3.2\n",
      "  Downloading opt_einsum-3.3.0-py3-none-any.whl (65 kB)\n",
      "\u001b[2K     \u001b[90m━━━━━━━━━━━━━━━━━━━━━━━━━━━━━━━━━━━━━━━━\u001b[0m \u001b[32m65.5/65.5 kB\u001b[0m \u001b[31m10.7 MB/s\u001b[0m eta \u001b[36m0:00:00\u001b[0m\n",
      "\u001b[?25hRequirement already satisfied: wheel<1.0,>=0.23.0 in /opt/conda/lib/python3.10/site-packages (from astunparse>=1.6.0->tensorflow) (0.38.4)\n",
      "Collecting markdown>=2.6.8\n",
      "  Downloading Markdown-3.4.4-py3-none-any.whl (94 kB)\n",
      "\u001b[2K     \u001b[90m━━━━━━━━━━━━━━━━━━━━━━━━━━━━━━━━━━━━━━━━\u001b[0m \u001b[32m94.2/94.2 kB\u001b[0m \u001b[31m16.6 MB/s\u001b[0m eta \u001b[36m0:00:00\u001b[0m\n",
      "\u001b[?25hCollecting tensorboard-data-server<0.8.0,>=0.7.0\n",
      "  Downloading tensorboard_data_server-0.7.1-py3-none-manylinux2014_x86_64.whl (6.6 MB)\n",
      "\u001b[2K     \u001b[90m━━━━━━━━━━━━━━━━━━━━━━━━━━━━━━━━━━━━━━━━\u001b[0m \u001b[32m6.6/6.6 MB\u001b[0m \u001b[31m78.6 MB/s\u001b[0m eta \u001b[36m0:00:00\u001b[0m:00:01\u001b[0m00:01\u001b[0m\n",
      "\u001b[?25hCollecting google-auth-oauthlib<1.1,>=0.5\n",
      "  Downloading google_auth_oauthlib-1.0.0-py2.py3-none-any.whl (18 kB)\n",
      "Collecting google-auth<3,>=1.6.3\n",
      "  Downloading google_auth-2.23.0-py2.py3-none-any.whl (181 kB)\n",
      "\u001b[2K     \u001b[90m━━━━━━━━━━━━━━━━━━━━━━━━━━━━━━━━━━━━━━\u001b[0m \u001b[32m181.4/181.4 kB\u001b[0m \u001b[31m27.8 MB/s\u001b[0m eta \u001b[36m0:00:00\u001b[0m\n",
      "\u001b[?25hCollecting werkzeug>=1.0.1\n",
      "  Downloading werkzeug-2.3.7-py3-none-any.whl (242 kB)\n",
      "\u001b[2K     \u001b[90m━━━━━━━━━━━━━━━━━━━━━━━━━━━━━━━━━━━━━━\u001b[0m \u001b[32m242.2/242.2 kB\u001b[0m \u001b[31m32.2 MB/s\u001b[0m eta \u001b[36m0:00:00\u001b[0m\n",
      "\u001b[?25hRequirement already satisfied: requests<3,>=2.21.0 in /opt/conda/lib/python3.10/site-packages (from tensorboard<2.14,>=2.13->tensorflow) (2.28.1)\n",
      "Collecting pyasn1-modules>=0.2.1\n",
      "  Downloading pyasn1_modules-0.3.0-py2.py3-none-any.whl (181 kB)\n",
      "\u001b[2K     \u001b[90m━━━━━━━━━━━━━━━━━━━━━━━━━━━━━━━━━━━━━━\u001b[0m \u001b[32m181.3/181.3 kB\u001b[0m \u001b[31m26.5 MB/s\u001b[0m eta \u001b[36m0:00:00\u001b[0m\n",
      "\u001b[?25hCollecting rsa<5,>=3.1.4\n",
      "  Downloading rsa-4.9-py3-none-any.whl (34 kB)\n",
      "Collecting cachetools<6.0,>=2.0.0\n",
      "  Downloading cachetools-5.3.1-py3-none-any.whl (9.3 kB)\n",
      "Requirement already satisfied: urllib3<2.0 in /opt/conda/lib/python3.10/site-packages (from google-auth<3,>=1.6.3->tensorboard<2.14,>=2.13->tensorflow) (1.26.13)\n",
      "Collecting requests-oauthlib>=0.7.0\n",
      "  Downloading requests_oauthlib-1.3.1-py2.py3-none-any.whl (23 kB)\n",
      "Requirement already satisfied: charset-normalizer<3,>=2 in /opt/conda/lib/python3.10/site-packages (from requests<3,>=2.21.0->tensorboard<2.14,>=2.13->tensorflow) (2.1.1)\n",
      "Requirement already satisfied: certifi>=2017.4.17 in /opt/conda/lib/python3.10/site-packages (from requests<3,>=2.21.0->tensorboard<2.14,>=2.13->tensorflow) (2022.12.7)\n",
      "Requirement already satisfied: idna<4,>=2.5 in /opt/conda/lib/python3.10/site-packages (from requests<3,>=2.21.0->tensorboard<2.14,>=2.13->tensorflow) (3.4)\n",
      "Requirement already satisfied: MarkupSafe>=2.1.1 in /opt/conda/lib/python3.10/site-packages (from werkzeug>=1.0.1->tensorboard<2.14,>=2.13->tensorflow) (2.1.1)\n",
      "Collecting pyasn1<0.6.0,>=0.4.6\n",
      "  Downloading pyasn1-0.5.0-py2.py3-none-any.whl (83 kB)\n",
      "\u001b[2K     \u001b[90m━━━━━━━━━━━━━━━━━━━━━━━━━━━━━━━━━━━━━━━━\u001b[0m \u001b[32m83.9/83.9 kB\u001b[0m \u001b[31m15.8 MB/s\u001b[0m eta \u001b[36m0:00:00\u001b[0m\n",
      "\u001b[?25hRequirement already satisfied: oauthlib>=3.0.0 in /opt/conda/lib/python3.10/site-packages (from requests-oauthlib>=0.7.0->google-auth-oauthlib<1.1,>=0.5->tensorboard<2.14,>=2.13->tensorflow) (3.2.2)\n",
      "Installing collected packages: libclang, flatbuffers, wrapt, werkzeug, termcolor, tensorflow-io-gcs-filesystem, tensorflow-estimator, tensorboard-data-server, pyasn1, opt-einsum, markdown, keras, grpcio, google-pasta, gast, cachetools, astunparse, absl-py, rsa, requests-oauthlib, pyasn1-modules, google-auth, google-auth-oauthlib, tensorboard, tensorflow\n",
      "Successfully installed absl-py-1.4.0 astunparse-1.6.3 cachetools-5.3.1 flatbuffers-23.5.26 gast-0.4.0 google-auth-2.23.0 google-auth-oauthlib-1.0.0 google-pasta-0.2.0 grpcio-1.58.0 keras-2.13.1 libclang-16.0.6 markdown-3.4.4 opt-einsum-3.3.0 pyasn1-0.5.0 pyasn1-modules-0.3.0 requests-oauthlib-1.3.1 rsa-4.9 tensorboard-2.13.0 tensorboard-data-server-0.7.1 tensorflow-2.13.0 tensorflow-estimator-2.13.0 tensorflow-io-gcs-filesystem-0.34.0 termcolor-2.3.0 werkzeug-2.3.7 wrapt-1.15.0\n",
      "Requirement already satisfied: keras in /opt/conda/lib/python3.10/site-packages (2.13.1)\n"
     ]
    }
   ],
   "source": [
    "# Install the latest versions of TensorFlow and Keras\n",
    "!pip install tensorflow\n",
    "!pip install keras"
   ]
  },
  {
   "cell_type": "code",
   "execution_count": 6,
   "id": "0b7c20d4-840f-4ba3-baf8-e0584c572ee6",
   "metadata": {},
   "outputs": [],
   "source": [
    "import tensorflow as tf\n",
    "from tensorflow.keras.datasets import mnist\n",
    "from sklearn.model_selection import train_test_split\n",
    "\n",
    "#Preprocess the dataset, which typically involves tasks like normalization and data splitting into training and validation sets.\n",
    "# For MNIST, you can normalize pixel values to the range [0, 1] and create training and validation sets.\n",
    "\n",
    "# Load and preprocess the MNIST dataset\n",
    "(x_train, y_train), (x_test, y_test) = mnist.load_data()\n",
    "x_train, x_val, y_train, y_val = train_test_split(x_train, y_train, test_size=0.2)\n",
    "x_train, x_val, x_test = x_train / 255.0, x_val / 255.0, x_test / 255.0\n"
   ]
  },
  {
   "cell_type": "code",
   "execution_count": 7,
   "id": "f70c28df-9043-4e2f-9352-54954f802a95",
   "metadata": {},
   "outputs": [
    {
     "name": "stdout",
     "output_type": "stream",
     "text": [
      "data type of X_train_full: float64,\n",
      " shape of X_train_full: (48000, 28, 28)\n"
     ]
    }
   ],
   "source": [
    "print(f\"data type of X_train_full: {x_train.dtype},\\n shape of X_train_full: {x_train.shape}\")"
   ]
  },
  {
   "cell_type": "code",
   "execution_count": 9,
   "id": "2c8aef9f-7e7e-472f-a004-ca5f8736d67a",
   "metadata": {},
   "outputs": [
    {
     "data": {
      "text/plain": [
       "(10000, 28, 28)"
      ]
     },
     "execution_count": 9,
     "metadata": {},
     "output_type": "execute_result"
    }
   ],
   "source": [
    "x_test.shape"
   ]
  },
  {
   "cell_type": "code",
   "execution_count": 11,
   "id": "ed3bbc02-5b38-479a-857b-232079789c96",
   "metadata": {},
   "outputs": [
    {
     "data": {
      "text/plain": [
       "28"
      ]
     },
     "execution_count": 11,
     "metadata": {},
     "output_type": "execute_result"
    }
   ],
   "source": [
    "len(x_test[1][0])"
   ]
  },
  {
   "cell_type": "code",
   "execution_count": 14,
   "id": "172c9318-f4f9-480e-849c-e94a5ed71395",
   "metadata": {},
   "outputs": [
    {
     "data": {
      "image/png": "[encoded data removed]",
      "text/plain": [
       "<Figure size 640x480 with 1 Axes>"
      ]
     },
     "metadata": {},
     "output_type": "display_data"
    }
   ],
   "source": [
    "# Lets view some data \n",
    "import matplotlib.pyplot as plt\n",
    "plt.imshow(x_train[0], cmap=\"binary\")\n",
    "plt.show()"
   ]
  },
  {
   "cell_type": "code",
   "execution_count": 15,
   "id": "634091c2-a157-4ec5-b245-d9c52850fa87",
   "metadata": {},
   "outputs": [],
   "source": [
    "# Implement a Feedforward Neural Network\n",
    "model_without_bn = tf.keras.Sequential([\n",
    "    tf.keras.layers.Flatten(input_shape=(28, 28)),\n",
    "    tf.keras.layers.Dense(128, activation='relu'),\n",
    "    tf.keras.layers.Dense(64, activation='relu'),\n",
    "    tf.keras.layers.Dense(10, activation='softmax')\n",
    "])\n"
   ]
  },
  {
   "cell_type": "code",
   "execution_count": 16,
   "id": "b80ff131-f42c-4b96-a1a3-d59a8eb2d5f3",
   "metadata": {},
   "outputs": [
    {
     "name": "stdout",
     "output_type": "stream",
     "text": [
      "Epoch 1/30\n",
      "1500/1500 [==============================] - 6s 3ms/step - loss: 0.2682 - accuracy: 0.9207 - val_loss: 0.1519 - val_accuracy: 0.9548\n",
      "Epoch 2/30\n",
      "1500/1500 [==============================] - 5s 3ms/step - loss: 0.1118 - accuracy: 0.9664 - val_loss: 0.1116 - val_accuracy: 0.9678\n",
      "Epoch 3/30\n",
      "1500/1500 [==============================] - 5s 3ms/step - loss: 0.0795 - accuracy: 0.9757 - val_loss: 0.0943 - val_accuracy: 0.9729\n",
      "Epoch 4/30\n",
      "1500/1500 [==============================] - 5s 3ms/step - loss: 0.0598 - accuracy: 0.9807 - val_loss: 0.1120 - val_accuracy: 0.9672\n",
      "Epoch 5/30\n",
      "1500/1500 [==============================] - 5s 3ms/step - loss: 0.0470 - accuracy: 0.9844 - val_loss: 0.0909 - val_accuracy: 0.9760\n",
      "Epoch 6/30\n",
      "1500/1500 [==============================] - 5s 3ms/step - loss: 0.0353 - accuracy: 0.9881 - val_loss: 0.0925 - val_accuracy: 0.9765\n",
      "Epoch 7/30\n",
      "1500/1500 [==============================] - 5s 3ms/step - loss: 0.0316 - accuracy: 0.9898 - val_loss: 0.0968 - val_accuracy: 0.9756\n",
      "Epoch 8/30\n",
      "1500/1500 [==============================] - 5s 3ms/step - loss: 0.0257 - accuracy: 0.9915 - val_loss: 0.1047 - val_accuracy: 0.9747\n",
      "Epoch 9/30\n",
      "1500/1500 [==============================] - 5s 3ms/step - loss: 0.0212 - accuracy: 0.9926 - val_loss: 0.1058 - val_accuracy: 0.9763\n",
      "Epoch 10/30\n",
      "1500/1500 [==============================] - 5s 3ms/step - loss: 0.0198 - accuracy: 0.9933 - val_loss: 0.1123 - val_accuracy: 0.9755\n",
      "Epoch 11/30\n",
      "1500/1500 [==============================] - 5s 3ms/step - loss: 0.0184 - accuracy: 0.9936 - val_loss: 0.1087 - val_accuracy: 0.9771\n",
      "Epoch 12/30\n",
      "1500/1500 [==============================] - 5s 3ms/step - loss: 0.0153 - accuracy: 0.9948 - val_loss: 0.1350 - val_accuracy: 0.9733\n",
      "Epoch 13/30\n",
      "1500/1500 [==============================] - 5s 3ms/step - loss: 0.0138 - accuracy: 0.9953 - val_loss: 0.1214 - val_accuracy: 0.9771\n",
      "Epoch 14/30\n",
      "1500/1500 [==============================] - 5s 3ms/step - loss: 0.0151 - accuracy: 0.9947 - val_loss: 0.1403 - val_accuracy: 0.9756\n",
      "Epoch 15/30\n",
      "1500/1500 [==============================] - 5s 3ms/step - loss: 0.0144 - accuracy: 0.9950 - val_loss: 0.1157 - val_accuracy: 0.9780\n",
      "Epoch 16/30\n",
      "1500/1500 [==============================] - 5s 3ms/step - loss: 0.0112 - accuracy: 0.9961 - val_loss: 0.1176 - val_accuracy: 0.9783\n",
      "Epoch 17/30\n",
      "1500/1500 [==============================] - 5s 3ms/step - loss: 0.0107 - accuracy: 0.9967 - val_loss: 0.1254 - val_accuracy: 0.9778\n",
      "Epoch 18/30\n",
      "1500/1500 [==============================] - 5s 3ms/step - loss: 0.0108 - accuracy: 0.9963 - val_loss: 0.1405 - val_accuracy: 0.9772\n",
      "Epoch 19/30\n",
      "1500/1500 [==============================] - 5s 3ms/step - loss: 0.0103 - accuracy: 0.9968 - val_loss: 0.1362 - val_accuracy: 0.9768\n",
      "Epoch 20/30\n",
      "1500/1500 [==============================] - 5s 3ms/step - loss: 0.0091 - accuracy: 0.9971 - val_loss: 0.1217 - val_accuracy: 0.9796\n",
      "Epoch 21/30\n",
      "1500/1500 [==============================] - 5s 3ms/step - loss: 0.0109 - accuracy: 0.9967 - val_loss: 0.1318 - val_accuracy: 0.9786\n",
      "Epoch 22/30\n",
      "1500/1500 [==============================] - 5s 3ms/step - loss: 0.0090 - accuracy: 0.9972 - val_loss: 0.1551 - val_accuracy: 0.9741\n",
      "Epoch 23/30\n",
      "1500/1500 [==============================] - 5s 3ms/step - loss: 0.0080 - accuracy: 0.9970 - val_loss: 0.1488 - val_accuracy: 0.9777\n",
      "Epoch 24/30\n",
      "1500/1500 [==============================] - 5s 3ms/step - loss: 0.0102 - accuracy: 0.9969 - val_loss: 0.1332 - val_accuracy: 0.9803\n",
      "Epoch 25/30\n",
      "1500/1500 [==============================] - 5s 3ms/step - loss: 0.0091 - accuracy: 0.9971 - val_loss: 0.1600 - val_accuracy: 0.9765\n",
      "Epoch 26/30\n",
      "1500/1500 [==============================] - 5s 3ms/step - loss: 0.0094 - accuracy: 0.9970 - val_loss: 0.1454 - val_accuracy: 0.9787\n",
      "Epoch 27/30\n",
      "1500/1500 [==============================] - 5s 3ms/step - loss: 0.0068 - accuracy: 0.9980 - val_loss: 0.1496 - val_accuracy: 0.9768\n",
      "Epoch 28/30\n",
      "1500/1500 [==============================] - 5s 3ms/step - loss: 0.0084 - accuracy: 0.9975 - val_loss: 0.1915 - val_accuracy: 0.9749\n",
      "Epoch 29/30\n",
      "1500/1500 [==============================] - 5s 3ms/step - loss: 0.0068 - accuracy: 0.9979 - val_loss: 0.1499 - val_accuracy: 0.9801\n",
      "Epoch 30/30\n",
      "1500/1500 [==============================] - 5s 3ms/step - loss: 0.0083 - accuracy: 0.9972 - val_loss: 0.1645 - val_accuracy: 0.9776\n"
     ]
    }
   ],
   "source": [
    "# Compile and train the model without batch normalization.\n",
    "\n",
    "model_without_bn.compile(optimizer='adam',\n",
    "                         loss='sparse_categorical_crossentropy',\n",
    "                         metrics=['accuracy'])\n",
    "\n",
    "history_without_bn = model_without_bn.fit(x_train, y_train,\n",
    "                                          epochs=30,\n",
    "                                          validation_data=(x_val, y_val))\n"
   ]
  },
  {
   "cell_type": "code",
   "execution_count": 17,
   "id": "5c430500-db13-4b5f-9cbe-6bbe59e5ce3e",
   "metadata": {},
   "outputs": [],
   "source": [
    "# Modify the model to include batch normalization layers.\n",
    "\n",
    "model_with_bn = tf.keras.Sequential([\n",
    "    tf.keras.layers.Flatten(input_shape=(28, 28)),\n",
    "    tf.keras.layers.Dense(128),\n",
    "    tf.keras.layers.BatchNormalization(),  # Add Batch Normalization\n",
    "    tf.keras.layers.ReLU(),\n",
    "    tf.keras.layers.Dense(64),\n",
    "    tf.keras.layers.BatchNormalization(),  # Add Batch Normalization\n",
    "    tf.keras.layers.ReLU(),\n",
    "    tf.keras.layers.Dense(10, activation='softmax')\n",
    "])\n"
   ]
  },
  {
   "cell_type": "code",
   "execution_count": 18,
   "id": "b90d7d7e-b417-4165-ba1a-7c66d66ba830",
   "metadata": {},
   "outputs": [
    {
     "name": "stdout",
     "output_type": "stream",
     "text": [
      "Epoch 1/30\n",
      "1500/1500 [==============================] - 7s 4ms/step - loss: 0.2781 - accuracy: 0.9199 - val_loss: 0.1222 - val_accuracy: 0.9647\n",
      "Epoch 2/30\n",
      "1500/1500 [==============================] - 5s 4ms/step - loss: 0.1228 - accuracy: 0.9619 - val_loss: 0.1013 - val_accuracy: 0.9712\n",
      "Epoch 3/30\n",
      "1500/1500 [==============================] - 5s 4ms/step - loss: 0.0914 - accuracy: 0.9709 - val_loss: 0.0888 - val_accuracy: 0.9732\n",
      "Epoch 4/30\n",
      "1500/1500 [==============================] - 6s 4ms/step - loss: 0.0733 - accuracy: 0.9755 - val_loss: 0.0900 - val_accuracy: 0.9726\n",
      "Epoch 5/30\n",
      "1500/1500 [==============================] - 6s 4ms/step - loss: 0.0626 - accuracy: 0.9797 - val_loss: 0.0850 - val_accuracy: 0.9744\n",
      "Epoch 6/30\n",
      "1500/1500 [==============================] - 6s 4ms/step - loss: 0.0524 - accuracy: 0.9829 - val_loss: 0.0749 - val_accuracy: 0.9785\n",
      "Epoch 7/30\n",
      "1500/1500 [==============================] - 6s 4ms/step - loss: 0.0444 - accuracy: 0.9851 - val_loss: 0.0789 - val_accuracy: 0.9768\n",
      "Epoch 8/30\n",
      "1500/1500 [==============================] - 6s 4ms/step - loss: 0.0427 - accuracy: 0.9860 - val_loss: 0.0814 - val_accuracy: 0.9766\n",
      "Epoch 9/30\n",
      "1500/1500 [==============================] - 6s 4ms/step - loss: 0.0364 - accuracy: 0.9883 - val_loss: 0.0772 - val_accuracy: 0.9791\n",
      "Epoch 10/30\n",
      "1500/1500 [==============================] - 6s 4ms/step - loss: 0.0328 - accuracy: 0.9891 - val_loss: 0.0832 - val_accuracy: 0.9767\n",
      "Epoch 11/30\n",
      "1500/1500 [==============================] - 6s 4ms/step - loss: 0.0310 - accuracy: 0.9893 - val_loss: 0.0871 - val_accuracy: 0.9774\n",
      "Epoch 12/30\n",
      "1500/1500 [==============================] - 6s 4ms/step - loss: 0.0292 - accuracy: 0.9896 - val_loss: 0.0818 - val_accuracy: 0.9789\n",
      "Epoch 13/30\n",
      "1500/1500 [==============================] - 6s 4ms/step - loss: 0.0259 - accuracy: 0.9912 - val_loss: 0.0795 - val_accuracy: 0.9796\n",
      "Epoch 14/30\n",
      "1500/1500 [==============================] - 6s 4ms/step - loss: 0.0260 - accuracy: 0.9914 - val_loss: 0.0796 - val_accuracy: 0.9782\n",
      "Epoch 15/30\n",
      "1500/1500 [==============================] - 6s 4ms/step - loss: 0.0240 - accuracy: 0.9917 - val_loss: 0.0770 - val_accuracy: 0.9797\n",
      "Epoch 16/30\n",
      "1500/1500 [==============================] - 5s 4ms/step - loss: 0.0239 - accuracy: 0.9919 - val_loss: 0.0788 - val_accuracy: 0.9803\n",
      "Epoch 17/30\n",
      "1500/1500 [==============================] - 5s 4ms/step - loss: 0.0216 - accuracy: 0.9924 - val_loss: 0.0775 - val_accuracy: 0.9800\n",
      "Epoch 18/30\n",
      "1500/1500 [==============================] - 5s 4ms/step - loss: 0.0209 - accuracy: 0.9931 - val_loss: 0.0797 - val_accuracy: 0.9797\n",
      "Epoch 19/30\n",
      "1500/1500 [==============================] - 6s 4ms/step - loss: 0.0186 - accuracy: 0.9939 - val_loss: 0.0816 - val_accuracy: 0.9809\n",
      "Epoch 20/30\n",
      "1500/1500 [==============================] - 6s 4ms/step - loss: 0.0188 - accuracy: 0.9935 - val_loss: 0.0858 - val_accuracy: 0.9789\n",
      "Epoch 21/30\n",
      "1500/1500 [==============================] - 5s 4ms/step - loss: 0.0187 - accuracy: 0.9937 - val_loss: 0.0782 - val_accuracy: 0.9818\n",
      "Epoch 22/30\n",
      "1500/1500 [==============================] - 6s 4ms/step - loss: 0.0152 - accuracy: 0.9949 - val_loss: 0.0875 - val_accuracy: 0.9799\n",
      "Epoch 23/30\n",
      "1500/1500 [==============================] - 6s 4ms/step - loss: 0.0172 - accuracy: 0.9943 - val_loss: 0.0781 - val_accuracy: 0.9820\n",
      "Epoch 24/30\n",
      "1500/1500 [==============================] - 6s 4ms/step - loss: 0.0149 - accuracy: 0.9949 - val_loss: 0.0896 - val_accuracy: 0.9792\n",
      "Epoch 25/30\n",
      "1500/1500 [==============================] - 5s 4ms/step - loss: 0.0168 - accuracy: 0.9947 - val_loss: 0.0899 - val_accuracy: 0.9785\n",
      "Epoch 26/30\n",
      "1500/1500 [==============================] - 6s 4ms/step - loss: 0.0154 - accuracy: 0.9946 - val_loss: 0.0863 - val_accuracy: 0.9813\n",
      "Epoch 27/30\n",
      "1500/1500 [==============================] - 6s 4ms/step - loss: 0.0162 - accuracy: 0.9947 - val_loss: 0.0801 - val_accuracy: 0.9814\n",
      "Epoch 28/30\n",
      "1500/1500 [==============================] - 6s 4ms/step - loss: 0.0142 - accuracy: 0.9949 - val_loss: 0.0876 - val_accuracy: 0.9804\n",
      "Epoch 29/30\n",
      "1500/1500 [==============================] - 6s 4ms/step - loss: 0.0142 - accuracy: 0.9950 - val_loss: 0.0838 - val_accuracy: 0.9824\n",
      "Epoch 30/30\n",
      "1500/1500 [==============================] - 6s 4ms/step - loss: 0.0148 - accuracy: 0.9949 - val_loss: 0.0879 - val_accuracy: 0.9808\n"
     ]
    }
   ],
   "source": [
    "# Compile and train the model with batch normalization.\n",
    "\n",
    "model_with_bn.compile(optimizer='adam',\n",
    "                      loss='sparse_categorical_crossentropy',\n",
    "                      metrics=['accuracy'])\n",
    "\n",
    "history_with_bn = model_with_bn.fit(x_train, y_train,\n",
    "                                    epochs=30,\n",
    "                                    validation_data=(x_val, y_val))\n"
   ]
  },
  {
   "cell_type": "code",
   "execution_count": 19,
   "id": "c0e57bfb-2e53-4ac9-b80d-4324800f3305",
   "metadata": {},
   "outputs": [
    {
     "data": {
      "image/png": "[encoded data removed]",
      "text/plain": [
       "<Figure size 1200x400 with 2 Axes>"
      ]
     },
     "metadata": {},
     "output_type": "display_data"
    }
   ],
   "source": [
    "# compare the training and validation performance of the models with and without batch normalization. You can plot and analyze the accuracy and loss curves.\n",
    "\n",
    "import matplotlib.pyplot as plt\n",
    "\n",
    "plt.figure(figsize=(12, 4))\n",
    "plt.subplot(1, 2, 1)\n",
    "plt.plot(history_without_bn.history['accuracy'], label='Train Accuracy (No BN)')\n",
    "plt.plot(history_without_bn.history['val_accuracy'], label='Val Accuracy (No BN)')\n",
    "plt.xlabel('Epoch')\n",
    "plt.ylabel('Accuracy')\n",
    "plt.legend()\n",
    "\n",
    "plt.subplot(1, 2, 2)\n",
    "plt.plot(history_with_bn.history['accuracy'], label='Train Accuracy (With BN)')\n",
    "plt.plot(history_with_bn.history['val_accuracy'], label='Val Accuracy (With BN)')\n",
    "plt.xlabel('Epoch')\n",
    "plt.ylabel('Accuracy')\n",
    "plt.legend()\n",
    "\n",
    "plt.show()\n"
   ]
  },
  {
   "cell_type": "markdown",
   "id": "25c00057-95fc-4696-b0e1-e5613c6746c1",
   "metadata": {},
   "source": [
    "# Q3. Experimentation and Analysis\n",
    "# 10 Experiment with different batch sizes and observe the effect on the training dynamics and model performance\n",
    "# 11 Discuss the advantages and potential limitations of batch normalization in improving the training of neural networks."
   ]
  },
  {
   "cell_type": "code",
   "execution_count": 20,
   "id": "2ae4a79d-766f-4b04-a4b8-6419373933ba",
   "metadata": {},
   "outputs": [
    {
     "name": "stdout",
     "output_type": "stream",
     "text": [
      "Epoch 1/10\n",
      "1500/1500 [==============================] - 7s 4ms/step - loss: 0.0132 - accuracy: 0.9954 - val_loss: 0.0864 - val_accuracy: 0.9813\n",
      "Epoch 2/10\n",
      "1500/1500 [==============================] - 6s 4ms/step - loss: 0.0137 - accuracy: 0.9954 - val_loss: 0.0922 - val_accuracy: 0.9792\n",
      "Epoch 3/10\n",
      "1500/1500 [==============================] - 6s 4ms/step - loss: 0.0122 - accuracy: 0.9959 - val_loss: 0.0837 - val_accuracy: 0.9808\n",
      "Epoch 4/10\n",
      "1500/1500 [==============================] - 5s 4ms/step - loss: 0.0121 - accuracy: 0.9961 - val_loss: 0.0894 - val_accuracy: 0.9802\n",
      "Epoch 5/10\n",
      "1500/1500 [==============================] - 6s 4ms/step - loss: 0.0114 - accuracy: 0.9960 - val_loss: 0.0902 - val_accuracy: 0.9808\n",
      "Epoch 6/10\n",
      "1500/1500 [==============================] - 6s 4ms/step - loss: 0.0118 - accuracy: 0.9958 - val_loss: 0.0949 - val_accuracy: 0.9789\n",
      "Epoch 7/10\n",
      "1500/1500 [==============================] - 5s 4ms/step - loss: 0.0121 - accuracy: 0.9956 - val_loss: 0.0908 - val_accuracy: 0.9802\n",
      "Epoch 8/10\n",
      "1500/1500 [==============================] - 6s 4ms/step - loss: 0.0117 - accuracy: 0.9963 - val_loss: 0.0969 - val_accuracy: 0.9793\n",
      "Epoch 9/10\n",
      "1500/1500 [==============================] - 6s 4ms/step - loss: 0.0095 - accuracy: 0.9968 - val_loss: 0.0932 - val_accuracy: 0.9812\n",
      "Epoch 10/10\n",
      "1500/1500 [==============================] - 5s 4ms/step - loss: 0.0106 - accuracy: 0.9966 - val_loss: 0.0963 - val_accuracy: 0.9801\n",
      "Epoch 1/10\n",
      "750/750 [==============================] - 5s 4ms/step - loss: 0.0035 - accuracy: 0.9989 - val_loss: 0.0938 - val_accuracy: 0.9821\n",
      "Epoch 2/10\n",
      "750/750 [==============================] - 3s 4ms/step - loss: 0.0032 - accuracy: 0.9990 - val_loss: 0.0976 - val_accuracy: 0.9812\n",
      "Epoch 3/10\n",
      "750/750 [==============================] - 3s 4ms/step - loss: 0.0037 - accuracy: 0.9987 - val_loss: 0.0971 - val_accuracy: 0.9820\n",
      "Epoch 4/10\n",
      "750/750 [==============================] - 3s 4ms/step - loss: 0.0024 - accuracy: 0.9993 - val_loss: 0.1165 - val_accuracy: 0.9790\n",
      "Epoch 5/10\n",
      "750/750 [==============================] - 3s 4ms/step - loss: 0.0029 - accuracy: 0.9990 - val_loss: 0.1034 - val_accuracy: 0.9799\n",
      "Epoch 6/10\n",
      "750/750 [==============================] - 3s 4ms/step - loss: 0.0026 - accuracy: 0.9991 - val_loss: 0.0990 - val_accuracy: 0.9815\n",
      "Epoch 7/10\n",
      "750/750 [==============================] - 3s 4ms/step - loss: 0.0023 - accuracy: 0.9993 - val_loss: 0.1020 - val_accuracy: 0.9804\n",
      "Epoch 8/10\n",
      "750/750 [==============================] - 3s 4ms/step - loss: 0.0036 - accuracy: 0.9987 - val_loss: 0.0976 - val_accuracy: 0.9817\n",
      "Epoch 9/10\n",
      "750/750 [==============================] - 3s 4ms/step - loss: 0.0021 - accuracy: 0.9993 - val_loss: 0.0959 - val_accuracy: 0.9819\n",
      "Epoch 10/10\n",
      "750/750 [==============================] - 3s 4ms/step - loss: 0.0029 - accuracy: 0.9991 - val_loss: 0.1056 - val_accuracy: 0.9806\n",
      "Epoch 1/10\n",
      "375/375 [==============================] - 4s 6ms/step - loss: 5.9971e-04 - accuracy: 0.9998 - val_loss: 0.0987 - val_accuracy: 0.9822\n",
      "Epoch 2/10\n",
      "375/375 [==============================] - 2s 5ms/step - loss: 6.1364e-04 - accuracy: 0.9999 - val_loss: 0.1004 - val_accuracy: 0.9817\n",
      "Epoch 3/10\n",
      "375/375 [==============================] - 2s 5ms/step - loss: 0.0013 - accuracy: 0.9997 - val_loss: 0.1034 - val_accuracy: 0.9808\n",
      "Epoch 4/10\n",
      "375/375 [==============================] - 2s 5ms/step - loss: 6.0318e-04 - accuracy: 0.9999 - val_loss: 0.1061 - val_accuracy: 0.9815\n",
      "Epoch 5/10\n",
      "375/375 [==============================] - 2s 5ms/step - loss: 6.1500e-04 - accuracy: 0.9999 - val_loss: 0.1035 - val_accuracy: 0.9821\n",
      "Epoch 6/10\n",
      "375/375 [==============================] - 2s 5ms/step - loss: 5.9963e-04 - accuracy: 0.9998 - val_loss: 0.1100 - val_accuracy: 0.9808\n",
      "Epoch 7/10\n",
      "375/375 [==============================] - 2s 5ms/step - loss: 5.0913e-04 - accuracy: 0.9999 - val_loss: 0.1038 - val_accuracy: 0.9829\n",
      "Epoch 8/10\n",
      "375/375 [==============================] - 2s 5ms/step - loss: 4.6055e-04 - accuracy: 0.9999 - val_loss: 0.1063 - val_accuracy: 0.9819\n",
      "Epoch 9/10\n",
      "375/375 [==============================] - 2s 5ms/step - loss: 0.0014 - accuracy: 0.9995 - val_loss: 0.1138 - val_accuracy: 0.9812\n",
      "Epoch 10/10\n",
      "375/375 [==============================] - 2s 5ms/step - loss: 9.9188e-04 - accuracy: 0.9997 - val_loss: 0.1091 - val_accuracy: 0.9814\n",
      "Epoch 1/10\n",
      "188/188 [==============================] - 3s 8ms/step - loss: 2.2573e-04 - accuracy: 0.9999 - val_loss: 0.1090 - val_accuracy: 0.9822\n",
      "Epoch 2/10\n",
      "188/188 [==============================] - 1s 7ms/step - loss: 3.1964e-04 - accuracy: 0.9999 - val_loss: 0.1057 - val_accuracy: 0.9823\n",
      "Epoch 3/10\n",
      "188/188 [==============================] - 1s 7ms/step - loss: 3.3532e-04 - accuracy: 0.9999 - val_loss: 0.1058 - val_accuracy: 0.9818\n",
      "Epoch 4/10\n",
      "188/188 [==============================] - 1s 6ms/step - loss: 5.1290e-05 - accuracy: 1.0000 - val_loss: 0.1036 - val_accuracy: 0.9827\n",
      "Epoch 5/10\n",
      "188/188 [==============================] - 1s 6ms/step - loss: 3.5489e-05 - accuracy: 1.0000 - val_loss: 0.1037 - val_accuracy: 0.9826\n",
      "Epoch 6/10\n",
      "188/188 [==============================] - 1s 6ms/step - loss: 1.9737e-05 - accuracy: 1.0000 - val_loss: 0.1038 - val_accuracy: 0.9824\n",
      "Epoch 7/10\n",
      "188/188 [==============================] - 1s 7ms/step - loss: 1.9120e-05 - accuracy: 1.0000 - val_loss: 0.1040 - val_accuracy: 0.9831\n",
      "Epoch 8/10\n",
      "188/188 [==============================] - 1s 8ms/step - loss: 1.5887e-05 - accuracy: 1.0000 - val_loss: 0.1045 - val_accuracy: 0.9833\n",
      "Epoch 9/10\n",
      "188/188 [==============================] - 1s 6ms/step - loss: 1.5100e-05 - accuracy: 1.0000 - val_loss: 0.1047 - val_accuracy: 0.9833\n",
      "Epoch 10/10\n",
      "188/188 [==============================] - 1s 7ms/step - loss: 1.0568e-05 - accuracy: 1.0000 - val_loss: 0.1048 - val_accuracy: 0.9836\n"
     ]
    }
   ],
   "source": [
    "\n",
    "\n",
    "# Train the model with different batch sizes\n",
    "history = {}\n",
    "batch_sizes = [32, 64, 128, 256]\n",
    "\n",
    "for batch_size in batch_sizes:\n",
    "    model_with_bn.compile(optimizer='adam',\n",
    "                          loss='sparse_categorical_crossentropy',\n",
    "                          metrics=['accuracy'])\n",
    "    \n",
    "    # Train the model with the current batch size\n",
    "    history[batch_size] = model_with_bn.fit(x_train, y_train,\n",
    "                                            epochs=10,\n",
    "                                            batch_size=batch_size,\n",
    "                                            validation_data=(x_val, y_val))\n"
   ]
  },
  {
   "cell_type": "code",
   "execution_count": null,
   "id": "56119450-1677-4eed-bf7e-3e3085a6f2c8",
   "metadata": {},
   "outputs": [],
   "source": []
  }
 ],
 "metadata": {
  "kernelspec": {
   "display_name": "Python 3 (ipykernel)",
   "language": "python",
   "name": "python3"
  },
  "language_info": {
   "codemirror_mode": {
    "name": "ipython",
    "version": 3
   },
   "file_extension": ".py",
   "mimetype": "text/x-python",
   "name": "python",
   "nbconvert_exporter": "python",
   "pygments_lexer": "ipython3",
   "version": "3.10.8"
  }
 },
 "nbformat": 4,
 "nbformat_minor": 5
}
